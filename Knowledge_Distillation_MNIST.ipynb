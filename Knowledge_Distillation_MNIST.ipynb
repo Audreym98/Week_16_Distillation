{
 "cells": [
  {
   "cell_type": "markdown",
   "id": "9e198285",
   "metadata": {},
   "source": [
    "# Knowledge Distillation on MNIST\n",
    "Knowledge distillation is the process of transferring the higher performance of a more expensive model to a smaller one.  In this notebook, we will explore performing this process on MNIST.  To begin with, I have provided access to pre-trained model that is large, but performant.  The exact architecture is not relevant (although you can inspect this easily if you wish).  It is straightforward to load in pytorch with"
   ]
  },
  {
   "cell_type": "code",
   "execution_count": null,
   "id": "bef4534c",
   "metadata": {},
   "outputs": [],
   "source": [
    "import torch\n",
    "device = 'cpu'\n",
    "\n",
    "class Net(torch.nn.Module):\n",
    "    def __init__(self):\n",
    "        super(Net, self).__init__()\n",
    "        self.l1 = torch.nn.Linear(28**2,800)\n",
    "        self.l2 = torch.nn.Linear(800,800)\n",
    "        self.l3 = torch.nn.Linear(800,10)\n",
    "        self.dropout2 = torch.nn.Dropout(0.5)\n",
    "        self.dropout3 = torch.nn.Dropout(0.5)\n",
    "\n",
    "    def forward(self, x):\n",
    "        x = self.l1(x)\n",
    "        x = torch.relu(x)\n",
    "        x = self.dropout2(x)\n",
    "        x = self.l2(x)\n",
    "        x = torch.relu(x)\n",
    "        x = self.dropout3(x)\n",
    "        x = self.l3(x)\n",
    "        return x\n",
    "    \n",
    "big_model = torch.load('pretrained_model.pt').to(device)"
   ]
  },
  {
   "cell_type": "markdown",
   "id": "78179abb",
   "metadata": {},
   "source": [
    "First, let's establish the baseline performance of the big model on the MNIST test set.  Of course we'll need acces to the MNIST test set to do this.  At the same time, let's also get our transfer set, which in this case will be a $n=10$k subset of the full MNIST training set (using a subset is helpful for speeding up training of distilled models, and also helps showcase some of the improved performance due to model distillation).   "
   ]
  },
  {
   "cell_type": "code",
   "execution_count": null,
   "id": "177a7acf",
   "metadata": {},
   "outputs": [],
   "source": [
    "from torchvision import transforms, datasets\n",
    "transform=transforms.Compose([\n",
    "    transforms.ToTensor(),\n",
    "    transforms.Normalize((0.1307,), (0.3081,)),\n",
    "    ])\n",
    "\n",
    "dataset_train = datasets.MNIST('./data', train=True, download=True, transform=transform)\n",
    "\n",
    "dataset_test = datasets.MNIST('../data', train=False, download=True, transform=transform)\n",
    "\n",
    "# This is a useful function that I didn't know about before\n",
    "first_10k = list(range(0, 10000))\n",
    "dataset_transfer = torch.utils.data.Subset(dataset_train, first_10k)\n",
    "\n",
    "batch_size = 32\n",
    "num_workers = 4\n",
    "transfer_loader = torch.utils.data.DataLoader(dataset_transfer,batch_size=batch_size,num_workers=num_workers)\n",
    "test_loader = torch.utils.data.DataLoader(dataset_test,batch_size=batch_size,num_workers=num_workers)"
   ]
  },
  {
   "cell_type": "markdown",
   "id": "d5fe32ec",
   "metadata": {},
   "source": [
    "Here's a function that runs the big model in test mode and provides the number of correct examples"
   ]
  },
  {
   "cell_type": "code",
   "execution_count": null,
   "id": "8937d3ec",
   "metadata": {},
   "outputs": [],
   "source": [
    "def test(model,test_loader):\n",
    "    correct = 0\n",
    "    counter = 0\n",
    "    model.eval()\n",
    "    with torch.no_grad():\n",
    "        for data,target in test_loader:\n",
    "            data, target = data.to(device), target.to(device)\n",
    "            data = data.reshape(data.shape[0],-1)\n",
    "            logits = model(data)\n",
    "            pred = logits.argmax(dim=1,keepdim=True)\n",
    "            correct += pred.eq(target.view_as(pred)).sum().item()\n",
    "            counter += batch_size\n",
    "    return correct\n",
    "\n",
    "test(big_model,test_loader)"
   ]
  },
  {
   "cell_type": "markdown",
   "id": "f7d3c34a",
   "metadata": {},
   "source": [
    "We find that the big model gets 167 examples wrong (not quite as good as the Hinton paper, but who cares). \n",
    "\n",
    "Now we would like to perform knowledge distillation by training a smaller model to approximate the larger model's performance on the transfer set.  First, let's build a smaller model.  You may use whatever architecture you choose, but I found that using two hidden layers, each with 200 units along with ReLU activations (and no regularization at all) worked fine."
   ]
  },
  {
   "cell_type": "code",
   "execution_count": null,
   "id": "f6883202",
   "metadata": {},
   "outputs": [],
   "source": [
    "class SmallNet(torch.nn.Module):\n",
    "    def __init__(self):\n",
    "        super(SmallNet, self).__init__()\n",
    "        # Build a SmallNet\n",
    "\n",
    "    def forward(self, x):\n",
    "        # Don't forget to put the right operations here too!\n",
    "        return x\n",
    "    \n",
    "small_model = SmallNet()\n",
    "small_model.to(device)"
   ]
  },
  {
   "cell_type": "markdown",
   "id": "895fe301",
   "metadata": {},
   "source": [
    "**To establish a baseline performance level, train the small model on the transfer set**  "
   ]
  },
  {
   "cell_type": "code",
   "execution_count": null,
   "id": "feac05a0",
   "metadata": {},
   "outputs": [],
   "source": [
    "# I'm giving you this training function: you'll need to modify it below to do knowledge distillation\n",
    "def train(model,train_loader,n_epochs):\n",
    "    optimizer = torch.optim.Adam(model.parameters(),1e-3)\n",
    "    loss_fn = torch.nn.CrossEntropyLoss()\n",
    "    model.train()\n",
    "    for epoch in range(n_epochs):\n",
    "        avg_l = 0.0\n",
    "        counter = 0\n",
    "        for batch_idx, (data, target) in enumerate(train_loader):\n",
    "            data, target = data.to(device), target.to(device)\n",
    "            data = data.reshape(data.shape[0],-1)\n",
    "            optimizer.zero_grad()\n",
    "            logits = model(data)\n",
    "            L = loss_fn(logits,target)\n",
    "            L.backward()\n",
    "            optimizer.step()\n",
    "            with torch.no_grad():\n",
    "                avg_l += L\n",
    "                counter += 1\n",
    "        print(epoch,avg_l/counter)\n",
    "\n",
    "train(small_model,transfer_loader,50)"
   ]
  },
  {
   "cell_type": "markdown",
   "id": "85a60a05",
   "metadata": {},
   "source": [
    "**Evaluate the small model on the test set, and comment on its accuracy relative to the big model.**  As you might expect, the performance is relatively worse.  "
   ]
  },
  {
   "cell_type": "code",
   "execution_count": null,
   "id": "5f760c43",
   "metadata": {},
   "outputs": [],
   "source": []
  },
  {
   "cell_type": "markdown",
   "id": "6343d3eb",
   "metadata": {},
   "source": [
    "**The primary task of this notebook is now as follows: create a new training function similar to \"train\" above, but instead called \"distill\".**  \"distill\" should perform knowledge distillation as outlined in this week's paper.  It should accept a few additional arguments compared to train, namely the big model, the temperature hyperparameter, and a hyperparameter $\\alpha$ that weights the relative magnitude of the soft target loss and the hard target loss."
   ]
  },
  {
   "cell_type": "code",
   "execution_count": null,
   "id": "206a7384",
   "metadata": {},
   "outputs": [],
   "source": [
    "distilled_model = SmallNet()\n",
    "distilled_model.to(device)\n",
    "\n",
    "# The body of this method is currently copied verbatim from the train method above: \n",
    "# you will need to modify it to utilize the big_model, temperature, and alpha values \n",
    "# to perform knowledge distillation\n",
    "def distill(small_model,big_model,T,alpha,transfer_loader,n_epochs):\n",
    "    optimizer = torch.optim.Adam(model.parameters(),1e-3)\n",
    "    loss_fn = torch.nn.CrossEntropyLoss()\n",
    "    model.train()\n",
    "    for epoch in range(n_epochs):\n",
    "        avg_l = 0.0\n",
    "        counter = 0\n",
    "        for batch_idx, (data, target) in enumerate(train_loader):\n",
    "            data, target = data.to(device), target.to(device)\n",
    "            data = data.reshape(data.shape[0],-1)\n",
    "            optimizer.zero_grad()\n",
    "            logits = model(data)\n",
    "            L = loss_fn(logits,target)\n",
    "            L.backward()\n",
    "            optimizer.step()\n",
    "            with torch.no_grad():\n",
    "                avg_l += L\n",
    "                counter += 1\n",
    "        print(epoch,avg_l/counter)\n",
    "    \n",
    "distill(distilled_model,big_model,T,alpha,transfer_loader,50)"
   ]
  },
  {
   "cell_type": "markdown",
   "id": "4f8bdbbc",
   "metadata": {},
   "source": [
    "**Finally, test your distilled model (on the test set) and describe how it performs relative to both big and small models.**"
   ]
  },
  {
   "cell_type": "code",
   "execution_count": null,
   "id": "70ad6e62",
   "metadata": {},
   "outputs": [],
   "source": []
  }
 ],
 "metadata": {
  "kernelspec": {
   "display_name": "Python 3 (ipykernel)",
   "language": "python",
   "name": "python3"
  },
  "language_info": {
   "codemirror_mode": {
    "name": "ipython",
    "version": 3
   },
   "file_extension": ".py",
   "mimetype": "text/x-python",
   "name": "python",
   "nbconvert_exporter": "python",
   "pygments_lexer": "ipython3",
   "version": "3.8.12"
  }
 },
 "nbformat": 4,
 "nbformat_minor": 5
}
